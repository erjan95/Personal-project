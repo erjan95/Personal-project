{
 "cells": [
  {
   "cell_type": "code",
   "execution_count": 10,
   "metadata": {},
   "outputs": [],
   "source": [
    "import pandas as pd\n",
    "\n",
    "file_path = '/Users/sainavid/Desktop/source/Full data_CategoryStructure2023.xlsx' #Path of source of category structure\n",
    "sheet_name1 = 'CAT L4 Commodity'\n",
    "data_file1 = pd.read_excel(file_path, sheet_name=sheet_name1) #, keep_default_na=False, na_values=[''])\n",
    "df1 = pd.DataFrame(data_file1)\n",
    "\n",
    "\n",
    "filtered_rows = []\n",
    "\n",
    "for index, row in df1.iterrows():\n",
    "    # Check if the value in the 'BG' column is not equal to 'NOK'\n",
    "    if row['BG'] != 'NOK':\n",
    "        filtered_rows.append(row)\n",
    "\n",
    "filtered_df = pd.DataFrame(filtered_rows)\n",
    "\n",
    "cat_strc_selected_columns = filtered_df[['BG','L2Id', 'L3Id', 'L4Id (Commcode)', 'MyOrdersUNSPSC']]\n",
    "\n",
    "sorted_cat_strc = cat_strc_selected_columns.sort_values(['MyOrdersUNSPSC', 'BG'])\n",
    "\n",
    "file_path = 'categorystructure.xlsx' #Path od category structure created by program\n",
    "#Save the DataFrame as XLSX\n",
    "sorted_cat_strc.to_excel(file_path, index=False)"
   ]
  },
  {
   "cell_type": "code",
   "execution_count": null,
   "metadata": {},
   "outputs": [],
   "source": []
  },
  {
   "cell_type": "code",
   "execution_count": 11,
   "metadata": {},
   "outputs": [],
   "source": [
    "import pandas as pd\n",
    "import glob\n",
    "\n",
    "files = glob.glob(\"/Users/sainavid/Desktop/source/xlsxfiles/*.xlsx\") \n",
    "dfs = []\n",
    "\n",
    "#PAP_filtered = []\n",
    "\n",
    "for file in files:\n",
    "    df = pd.read_excel(file, usecols=[\"RespID\", \"BG\", \"CatID\", \"OrgID\", \"OrgName\", \"ApprovalMin\", \"ApprovalMax\",\n",
    "                                     \"RoleID\", \"Person1\", \"Person2\", \"Person3\", \"Person4\", \"Person5\", \"Person6\"])\n",
    "    df_filtered = df[df[\"RoleID\"] == \"PAP\"]\n",
    "    dfs.append(df_filtered)\n",
    "    \n",
    "result = pd.concat(dfs, ignore_index=True)\n",
    "\n",
    "result = result.drop('RoleID', axis=1)\n",
    "\n",
    "result['Required'] = ''\n",
    "\n",
    "#Required = False\n",
    "#if for a RespID the Person1-Person6 fields are all empty\n",
    "result.loc[result[\"Required\"] == '', \"Required\"] = (result.loc[:, \"Person1\":\"Person6\"].apply(lambda x: x.str.strip()).replace('', pd.NaT).isna().all(axis=1))\n",
    "\n",
    "result['Required'] = result['Required'].replace({True: False, False: True})\n",
    "\n",
    "file_path = 'responsibilitymatrix.xlsx'\n",
    "#Save the DataFrame as XLSX\n",
    "result.to_excel(file_path, index=False)"
   ]
  }
 ],
 "metadata": {
  "kernelspec": {
   "display_name": "Python 3",
   "language": "python",
   "name": "python3"
  },
  "language_info": {
   "codemirror_mode": {
    "name": "ipython",
    "version": 3
   },
   "file_extension": ".py",
   "mimetype": "text/x-python",
   "name": "python",
   "nbconvert_exporter": "python",
   "pygments_lexer": "ipython3",
   "version": "3.7.6"
  }
 },
 "nbformat": 4,
 "nbformat_minor": 5
}
